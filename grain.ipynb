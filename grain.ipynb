{
 "cells": [
  {
   "cell_type": "code",
   "execution_count": 1,
   "id": "21720d84",
   "metadata": {},
   "outputs": [],
   "source": [
    "mkdir immature"
   ]
  },
  {
   "cell_type": "code",
   "execution_count": 2,
   "id": "fb7c5ac4",
   "metadata": {},
   "outputs": [
    {
     "name": "stdout",
     "output_type": "stream",
     "text": [
      "[%] Downloading Images to C:\\Users\\pr&d02\\Desktop\\Rice\\immature\\immature rice grain\n",
      "\n",
      "\n",
      "[!!]Indexing page: 1\n",
      "\n",
      "[%] Indexed 16 Images on Page 1.\n",
      "\n",
      "===============================================\n",
      "\n",
      "[%] Downloading Image #1 from http://www.knowledgebank.irri.org/images/stories/Factsheet_false-smut-002.jpg\n",
      "[%] File Downloaded !\n",
      "\n",
      "[%] Downloading Image #2 from https://www.ift.org/-/media/iftnext/newsletter/newsletter-article-images/2020/february/rice1043055574.jpg\n",
      "[%] File Downloaded !\n",
      "\n",
      "[%] Downloading Image #3 from https://thumbs.dreamstime.com/z/single-seed-front-pile-paddy-grain-unmilled-rice-single-seed-front-pile-paddy-grain-unmilled-rice-white-background-111848637.jpg\n",
      "[%] File Downloaded !\n",
      "\n",
      "[%] Downloading Image #4 from https://media.sciencephoto.com/image/h1102054/400wm/H1102054-Rice_grains.jpg\n",
      "[%] File Downloaded !\n",
      "\n",
      "[%] Downloading Image #5 from http://www.cleaneatinggrocer.com/wp-content/uploads/2016/05/Ten-Grain-Rice.png\n",
      "[%] File Downloaded !\n",
      "\n",
      "[%] Downloading Image #6 from https://www.tradologie.com/lp/img/medium-grain-rice.jpg\n",
      "[%] File Downloaded !\n",
      "\n",
      "[%] Downloading Image #7 from http://aarushagro.com/img/inner_img/1121-long-grain-parboiled-rice-01.jpg\n",
      "[%] File Downloaded !\n",
      "\n",
      "[%] Downloading Image #8 from https://sc01.alicdn.com/kf/UTB8Bfe2JpfFXKJk43Otq6xIPFXa4/762530991/UTB8Bfe2JpfFXKJk43Otq6xIPFXa4.jpg\n",
      "[%] File Downloaded !\n",
      "\n",
      "[%] Downloading Image #9 from http://wholegrainscouncil.org/sites/default/files/thumbnails/image/RiceCloseup_USDA.jpg\n",
      "[%] File Downloaded !\n",
      "\n",
      "[%] Downloading Image #10 from https://www.geewinexim.com/images/products/non-basmati2.jpg\n",
      "[%] File Downloaded !\n",
      "\n",
      "[%] Downloading Image #11 from https://implan.com/wp-content/uploads/US_long_grain_rice_USDA_ARS-500x280.jpg\n",
      "[%] File Downloaded !\n",
      "\n",
      "[%] Downloading Image #12 from http://4.bp.blogspot.com/-w_K9n4W_L8A/UzEKdohpx5I/AAAAAAAAARQ/AV-I-SB9KVM/w1200-h630-p-k-no-nu/Long-rice.JPG\n",
      "[%] File Downloaded !\n",
      "\n",
      "[%] Downloading Image #13 from https://www.researchgate.net/profile/Temu-Mulaw/publication/323759578/figure/download/fig1/AS:631581127499815@1527592083483/Arkansas-rice-production-county-map-showing-the-location-of-BPB-samples-collected.png\n",
      "[!] Issue getting: https://www.researchgate.net/profile/Temu-Mulaw/publication/323759578/figure/download/fig1/AS:631581127499815@1527592083483/Arkansas-rice-production-county-map-showing-the-location-of-BPB-samples-collected.png\n",
      "[!] Error:: HTTP Error 403: Forbidden\n",
      "[%] Downloading Image #13 from http://www.irri6.com/wp-content/uploads/2016/11/15pct-broken-rice-50kgs-polypropylene-bag.png\n",
      "[%] File Downloaded !\n",
      "\n",
      "[%] Downloading Image #14 from http://barmac.com.au/wp-content/uploads/sites/3/2016/01/METHOGRAIN_IGR-300_1L-330x500.png\n",
      "[%] File Downloaded !\n",
      "\n",
      "[%] Downloading Image #15 from https://cdn.ecommercedns.uk/files/7/237157/9/13322879/image.jpg\n",
      "[!] Issue getting: https://cdn.ecommercedns.uk/files/7/237157/9/13322879/image.jpg\n",
      "[!] Error:: HTTP Error 403: Forbidden\n",
      "\n",
      "\n",
      "[!!]Indexing page: 2\n",
      "\n",
      "[%] Indexed 35 Images on Page 2.\n",
      "\n",
      "===============================================\n",
      "\n",
      "[%] Downloading Image #15 from https://www.researchgate.net/profile/Susan_Mccouch2/publication/6219524/figure/fig1/AS:202686185119748@1425335560329/Wild-and-domesticated-rice-phenotypes-A-Immature-panicle-from-O-rufipogon-showing.png\n",
      "[!] Issue getting: https://www.researchgate.net/profile/Susan_Mccouch2/publication/6219524/figure/fig1/AS:202686185119748@1425335560329/Wild-and-domesticated-rice-phenotypes-A-Immature-panicle-from-O-rufipogon-showing.png\n",
      "[!] Error:: HTTP Error 403: Forbidden\n",
      "[%] Downloading Image #15 from https://cf.shopee.ph/file/e1d6e384544ba0e38b8492b59c60b4b1\n",
      "[%] File Downloaded !\n",
      "\n",
      "[%] Downloading Image #16 from https://www.foodqualityandsafety.com/wp-content/uploads/2020/02/ImmatureRice_FQU0120.jpg\n",
      "[%] File Downloaded !\n",
      "\n",
      "[%] Downloading Image #17 from https://thumbs.dreamstime.com/b/rice-grown-12174094.jpg\n",
      "[%] File Downloaded !\n",
      "\n",
      "[%] Downloading Image #18 from https://static7.depositphotos.com/1029756/757/i/450/depositphotos_7575915-stock-photo-immature-rice.jpg\n",
      "[%] File Downloaded !\n",
      "\n",
      "[%] Downloading Image #19 from https://media.sciencephoto.com/image/h1102054/800wm/H1102054-Rice_grains.jpg\n",
      "[%] File Downloaded !\n",
      "\n",
      "[%] Downloading Image #20 from https://images2.pics4learning.com/catalog/s/s4200182.jpg\n",
      "[%] File Downloaded !\n",
      "\n",
      "[%] Downloading Image #21 from https://mountainvalleyliving.com/wp-content/uploads/2015/03/RiceFarmCourtesy-of-California-Rice-CommissionHeaded-Rice-1280x640.jpg\n",
      "[%] File Downloaded !\n",
      "\n",
      "[%] Downloading Image #22 from https://st3.depositphotos.com/5945262/17666/i/450/depositphotos_176662122-stock-photo-beautiful-green-rice-fields-in.jpg\n",
      "[%] File Downloaded !\n",
      "\n",
      "[%] Downloading Image #23 from http://www.fertilesoilsolutions.com/wp-content/uploads/2010/04/IMG_1382.jpg\n",
      "[%] File Downloaded !\n",
      "\n",
      "[%] Downloading Image #24 from https://i.pinimg.com/736x/5d/fc/6c/5dfc6c3ed641c81db5b2a6b86d1116fb.jpg\n",
      "[%] File Downloaded !\n",
      "\n",
      "[%] Downloading Image #25 from https://thumbs.dreamstime.com/z/rice-plants-field-14180969.jpg\n",
      "[%] File Downloaded !\n",
      "\n",
      "[%] Downloading Image #26 from https://5.imimg.com/data5/GJ/EX/CV/SELLER-73518290/pussa-basmati.jpeg\n",
      "[Error]Invalid image, not saving https://5.imimg.com/data5/GJ/EX/CV/SELLER-73518290/pussa-basmati.jpeg\n",
      "\n",
      "[!] Issue getting: https://5.imimg.com/data5/GJ/EX/CV/SELLER-73518290/pussa-basmati.jpeg\n",
      "[!] Error:: Invalid image, not saving https://5.imimg.com/data5/GJ/EX/CV/SELLER-73518290/pussa-basmati.jpeg\n",
      "\n",
      "[%] Downloading Image #26 from https://www.afrii.org/wp-content/uploads/2016/12/RICE-Grain-edited.jpg\n",
      "[%] File Downloaded !\n",
      "\n",
      "[%] Downloading Image #27 from https://cf.shopee.ph/file/869d38ce2b8966617ba2633bccebc371_tn\n",
      "[%] File Downloaded !\n",
      "\n",
      "[%] Downloading Image #28 from https://sites.google.com/site/longgrainwhiterice/mediumrice/Round grain rice grade 1 -1.jpg?attredirects=0\n",
      "[!] Issue getting: https://sites.google.com/site/longgrainwhiterice/mediumrice/Round grain rice grade 1 -1.jpg?attredirects=0\n",
      "[!] Error:: URL can't contain control characters. '/site/longgrainwhiterice/mediumrice/Round grain rice grade 1 -1.jpg?attredirects=0' (found at least ' ')\n",
      "[%] Downloading Image #28 from https://img3.21food.com/img/product/2020/11/20/food305244-1605834709886657.jpg\n",
      "[%] File Downloaded !\n",
      "\n",
      "[%] Downloading Image #29 from https://media.istockphoto.com/photos/panicle-with-rice-grains-picture-id1143044510\n",
      "[%] File Downloaded !\n",
      "\n",
      "[%] Downloading Image #30 from https://5.imimg.com/data5/EP/IT/LV/SELLER-73518290/pussa-basmati.jpeg\n",
      "[Error]Invalid image, not saving https://5.imimg.com/data5/EP/IT/LV/SELLER-73518290/pussa-basmati.jpeg\n",
      "\n",
      "[!] Issue getting: https://5.imimg.com/data5/EP/IT/LV/SELLER-73518290/pussa-basmati.jpeg\n",
      "[!] Error:: Invalid image, not saving https://5.imimg.com/data5/EP/IT/LV/SELLER-73518290/pussa-basmati.jpeg\n",
      "\n",
      "[%] Downloading Image #30 from https://c1.staticflickr.com/1/168/438489839_f298ed6034_b.jpg\n",
      "[%] File Downloaded !\n",
      "\n",
      "\n",
      "\n",
      "[%] Done. Downloaded 30 images.\n"
     ]
    }
   ],
   "source": [
    "from bing_image_downloader import downloader\n",
    "downloader.download(\"immature rice grain\", limit = 30, output_dir = 'immature')"
   ]
  },
  {
   "cell_type": "code",
   "execution_count": 9,
   "id": "f62a8656",
   "metadata": {},
   "outputs": [],
   "source": [
    "import tensorflow as tf\n",
    "import matplotlib.pyplot as plt\n",
    "from tensorflow.keras.preprocessing.image import ImageDataGenerator\n",
    "from tensorflow.keras.models import load_model\n",
    "from tensorflow.keras.models import Sequential\n",
    "from tensorflow.keras.applications.mobilenet_v2 import MobileNetV2,preprocess_input as mobileNet50\n",
    "from tensorflow.keras.preprocessing.image import ImageDataGenerator\n",
    "from tensorflow.keras.preprocessing.image import load_img , img_to_array\n",
    "from tensorflow.keras.applications.resnet50 import  preprocess_input,decode_predictions\n",
    "from tensorflow.keras.applications.resnet50 import ResNet50\n",
    "from tensorflow.keras.models import Model\n",
    "from tensorflow.keras.layers import Dense , Dropout , Conv2D , MaxPooling2D, Flatten , BatchNormalization, GlobalAveragePooling2D"
   ]
  },
  {
   "cell_type": "code",
   "execution_count": 10,
   "id": "e2264275",
   "metadata": {},
   "outputs": [
    {
     "name": "stdout",
     "output_type": "stream",
     "text": [
      "Requirement already satisfied: split_folders in c:\\deep\\lib\\site-packages (0.5.1)\n"
     ]
    }
   ],
   "source": [
    "!pip install split_folders"
   ]
  },
  {
   "cell_type": "code",
   "execution_count": 5,
   "id": "a967e37f",
   "metadata": {},
   "outputs": [],
   "source": [
    "import splitfolders"
   ]
  },
  {
   "cell_type": "code",
   "execution_count": 6,
   "id": "fb603d9b",
   "metadata": {},
   "outputs": [
    {
     "name": "stderr",
     "output_type": "stream",
     "text": [
      "Copying files: 80 files [00:00, 87.35 files/s]\n"
     ]
    }
   ],
   "source": [
    "input_folder = \"C:\\\\Users\\\\pr&d02\\\\Desktop\\\\Rice\\\\grain\"\n",
    "output = \"C:\\\\Users\\\\pr&d02\\\\Desktop\\\\Rice\\\\processed_data\"\n",
    "splitfolders.ratio(input_folder, output, seed = 12, ratio = (0.6,0.2,0.2))"
   ]
  },
  {
   "cell_type": "code",
   "execution_count": 12,
   "id": "1263ae0f",
   "metadata": {},
   "outputs": [],
   "source": [
    "img_height, img_width = (224,224)\n",
    "batch_size = 2\n",
    "test_data_dir = r\"C:\\\\Users\\\\pr&d02\\\\Desktop\\\\Rice\\\\processed_data\\\\test\"\n",
    "train_data_dir =  r\"C:\\\\Users\\\\pr&d02\\\\Desktop\\\\Rice\\\\processed_data\\\\train\"\n",
    "valid_data_dir = r\"C:\\\\Users\\\\pr&d02\\\\Desktop\\\\Rice\\\\processed_data\\\\val\""
   ]
  },
  {
   "cell_type": "code",
   "execution_count": 13,
   "id": "7950f275",
   "metadata": {},
   "outputs": [
    {
     "name": "stdout",
     "output_type": "stream",
     "text": [
      "Found 30 images belonging to 5 classes.\n",
      "Found 5 images belonging to 5 classes.\n"
     ]
    }
   ],
   "source": [
    "train_datagen = ImageDataGenerator(preprocessing_function =preprocess_input, \n",
    "                                  shear_range = 0.2,\n",
    "                                  zoom_range = 0.2,\n",
    "                                  horizontal_flip= True, \n",
    "                                  validation_split = 0.4)\n",
    "\n",
    "train_generator = train_datagen.flow_from_directory(\n",
    "                    train_data_dir,\n",
    "                    target_size = (img_height, img_width), \n",
    "                    batch_size = batch_size, \n",
    "                    class_mode='categorical',\n",
    "                    subset = 'training')\n",
    "valid_generator= train_datagen.flow_from_directory(\n",
    "                 valid_data_dir, \n",
    "                 target_size=(img_height, img_width),\n",
    "                 batch_size = batch_size,\n",
    "                 class_mode='categorical',\n",
    "                 subset = 'validation')"
   ]
  },
  {
   "cell_type": "code",
   "execution_count": 14,
   "id": "a4cd419b",
   "metadata": {},
   "outputs": [
    {
     "name": "stdout",
     "output_type": "stream",
     "text": [
      "Found 5 images belonging to 5 classes.\n"
     ]
    }
   ],
   "source": [
    "test_generator = train_datagen.flow_from_directory(\n",
    "                 test_data_dir, \n",
    "                 target_size = (img_height, img_width),\n",
    "                 batch_size = 1,\n",
    "                 class_mode='categorical',\n",
    "                 subset = 'validation')"
   ]
  },
  {
   "cell_type": "code",
   "execution_count": 15,
   "id": "76263fe5",
   "metadata": {},
   "outputs": [
    {
     "data": {
      "text/plain": [
       "(1, 224, 224, 3)"
      ]
     },
     "execution_count": 15,
     "metadata": {},
     "output_type": "execute_result"
    }
   ],
   "source": [
    "X, y = test_generator.next()\n",
    "X.shape"
   ]
  },
  {
   "cell_type": "code",
   "execution_count": 22,
   "id": "8069f083",
   "metadata": {},
   "outputs": [
    {
     "name": "stdout",
     "output_type": "stream",
     "text": [
      "Epoch 1/2\n",
      "15/15 [==============================] - 13s 305ms/step - loss: 4.8302 - accuracy: 0.2000\n",
      "Epoch 2/2\n",
      "15/15 [==============================] - 5s 297ms/step - loss: 1.0989 - accuracy: 0.7333\n"
     ]
    },
    {
     "data": {
      "text/plain": [
       "<keras.callbacks.History at 0x2405639f370>"
      ]
     },
     "execution_count": 22,
     "metadata": {},
     "output_type": "execute_result"
    }
   ],
   "source": [
    "base_model = ResNet50(include_top = False, weights = \"imagenet\")\n",
    "x = base_model.output\n",
    "x = GlobalAveragePooling2D()(x)\n",
    "x = Dense(1024, activation= \"relu\")(x)\n",
    "predictions =Dense(train_generator.num_classes, activation = \"softmax\")(x)\n",
    "model = Model(inputs = base_model.input, outputs = predictions)\n",
    "\n",
    "\n",
    "for layer in base_model.layers:\n",
    "    layer.trainable = False\n",
    "\n",
    "model.compile(optimizer ='adam', loss = 'categorical_crossentropy', metrics =['accuracy'])\n",
    "model.fit(train_generator, epochs = 2)"
   ]
  },
  {
   "cell_type": "code",
   "execution_count": 23,
   "id": "1fcb9812",
   "metadata": {},
   "outputs": [],
   "source": [
    "model.save(\"model.hdf5\")"
   ]
  },
  {
   "cell_type": "code",
   "execution_count": 25,
   "id": "810957c1",
   "metadata": {},
   "outputs": [
    {
     "name": "stderr",
     "output_type": "stream",
     "text": [
      "WARNING:absl:Found untraced functions such as _jit_compiled_convolution_op, _jit_compiled_convolution_op, _jit_compiled_convolution_op, _jit_compiled_convolution_op, _jit_compiled_convolution_op while saving (showing 5 of 53). These functions will not be directly callable after loading.\n"
     ]
    },
    {
     "name": "stdout",
     "output_type": "stream",
     "text": [
      "INFO:tensorflow:Assets written to: ram://065f191d-fe04-4600-b555-53fb4796d283/assets\n"
     ]
    },
    {
     "name": "stderr",
     "output_type": "stream",
     "text": [
      "INFO:tensorflow:Assets written to: ram://065f191d-fe04-4600-b555-53fb4796d283/assets\n"
     ]
    },
    {
     "ename": "UnsupportedOperation",
     "evalue": "write",
     "output_type": "error",
     "traceback": [
      "\u001b[1;31m---------------------------------------------------------------------------\u001b[0m",
      "\u001b[1;31mUnsupportedOperation\u001b[0m                      Traceback (most recent call last)",
      "Input \u001b[1;32mIn [25]\u001b[0m, in \u001b[0;36m<cell line: 2>\u001b[1;34m()\u001b[0m\n\u001b[0;32m      1\u001b[0m filename \u001b[38;5;241m=\u001b[39m \u001b[38;5;124m'\u001b[39m\u001b[38;5;124mmodel.sav\u001b[39m\u001b[38;5;124m'\u001b[39m\n\u001b[1;32m----> 2\u001b[0m \u001b[43mpickle\u001b[49m\u001b[38;5;241;43m.\u001b[39;49m\u001b[43m \u001b[49m\u001b[43mdump\u001b[49m\u001b[43m(\u001b[49m\u001b[43mmodel\u001b[49m\u001b[43m,\u001b[49m\u001b[43m \u001b[49m\u001b[38;5;28;43mopen\u001b[39;49m\u001b[43m(\u001b[49m\u001b[43mfilename\u001b[49m\u001b[43m,\u001b[49m\u001b[43m \u001b[49m\u001b[38;5;124;43m'\u001b[39;49m\u001b[38;5;124;43mrb\u001b[39;49m\u001b[38;5;124;43m'\u001b[39;49m\u001b[43m)\u001b[49m\u001b[43m)\u001b[49m\n",
      "\u001b[1;31mUnsupportedOperation\u001b[0m: write"
     ]
    }
   ],
   "source": [
    "filename = 'model.sav'\n",
    "pickle. dump(model, open(filename, 'rb'))"
   ]
  },
  {
   "cell_type": "code",
   "execution_count": 2,
   "id": "4be96a01",
   "metadata": {},
   "outputs": [],
   "source": [
    "import pickle"
   ]
  },
  {
   "cell_type": "code",
   "execution_count": 3,
   "id": "1ea5e70c",
   "metadata": {},
   "outputs": [
    {
     "ename": "NameError",
     "evalue": "name 'model' is not defined",
     "output_type": "error",
     "traceback": [
      "\u001b[1;31m---------------------------------------------------------------------------\u001b[0m",
      "\u001b[1;31mNameError\u001b[0m                                 Traceback (most recent call last)",
      "Input \u001b[1;32mIn [3]\u001b[0m, in \u001b[0;36m<cell line: 1>\u001b[1;34m()\u001b[0m\n\u001b[1;32m----> 1\u001b[0m pickle\u001b[38;5;241m.\u001b[39mdump(\u001b[43mmodel\u001b[49m, \u001b[38;5;28mopen\u001b[39m(\u001b[38;5;124m'\u001b[39m\u001b[38;5;124msaved/model.p\u001b[39m\u001b[38;5;124m'\u001b[39m, \u001b[38;5;124m'\u001b[39m\u001b[38;5;124mwb\u001b[39m\u001b[38;5;124m'\u001b[39m))\n",
      "\u001b[1;31mNameError\u001b[0m: name 'model' is not defined"
     ]
    }
   ],
   "source": [
    "pickle.dump(model, open('saved/model.p', 'wb'))"
   ]
  }
 ],
 "metadata": {
  "kernelspec": {
   "display_name": "Python 3 (ipykernel)",
   "language": "python",
   "name": "python3"
  },
  "language_info": {
   "codemirror_mode": {
    "name": "ipython",
    "version": 3
   },
   "file_extension": ".py",
   "mimetype": "text/x-python",
   "name": "python",
   "nbconvert_exporter": "python",
   "pygments_lexer": "ipython3",
   "version": "3.9.12"
  }
 },
 "nbformat": 4,
 "nbformat_minor": 5
}
